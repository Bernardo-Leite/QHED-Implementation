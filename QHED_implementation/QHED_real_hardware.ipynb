{
 "cells": [
  {
   "cell_type": "code",
   "execution_count": 1,
   "id": "7dd5b3e3",
   "metadata": {},
   "outputs": [
    {
     "ename": "IBMQAccountCredentialsNotFound",
     "evalue": "'No IBM Quantum Experience credentials found.'",
     "output_type": "error",
     "traceback": [
      "\u001b[1;31m---------------------------------------------------------------------------\u001b[0m",
      "\u001b[1;31mIBMQAccountCredentialsNotFound\u001b[0m            Traceback (most recent call last)",
      "\u001b[1;32m~\\AppData\\Local\\Temp/ipykernel_2340/1584956210.py\u001b[0m in \u001b[0;36m<module>\u001b[1;34m\u001b[0m\n\u001b[0;32m      2\u001b[0m \u001b[1;33m\u001b[0m\u001b[0m\n\u001b[0;32m      3\u001b[0m \u001b[1;31m# Load the IBMQ account\u001b[0m\u001b[1;33m\u001b[0m\u001b[1;33m\u001b[0m\u001b[0m\n\u001b[1;32m----> 4\u001b[1;33m \u001b[0mIBMQ\u001b[0m\u001b[1;33m.\u001b[0m\u001b[0mload_account\u001b[0m\u001b[1;33m(\u001b[0m\u001b[1;33m)\u001b[0m\u001b[1;33m\u001b[0m\u001b[1;33m\u001b[0m\u001b[0m\n\u001b[0m\u001b[0;32m      5\u001b[0m \u001b[1;33m\u001b[0m\u001b[0m\n\u001b[0;32m      6\u001b[0m \u001b[1;31m# Get the provider and backend\u001b[0m\u001b[1;33m\u001b[0m\u001b[1;33m\u001b[0m\u001b[0m\n",
      "\u001b[1;32m~\\anaconda3\\lib\\site-packages\\qiskit\\providers\\ibmq\\ibmqfactory.py\u001b[0m in \u001b[0;36mload_account\u001b[1;34m(self)\u001b[0m\n\u001b[0;32m    165\u001b[0m \u001b[1;33m\u001b[0m\u001b[0m\n\u001b[0;32m    166\u001b[0m         \u001b[1;32mif\u001b[0m \u001b[1;32mnot\u001b[0m \u001b[0mcredentials_list\u001b[0m\u001b[1;33m:\u001b[0m\u001b[1;33m\u001b[0m\u001b[1;33m\u001b[0m\u001b[0m\n\u001b[1;32m--> 167\u001b[1;33m             raise IBMQAccountCredentialsNotFound(\n\u001b[0m\u001b[0;32m    168\u001b[0m                 'No IBM Quantum Experience credentials found.')\n\u001b[0;32m    169\u001b[0m \u001b[1;33m\u001b[0m\u001b[0m\n",
      "\u001b[1;31mIBMQAccountCredentialsNotFound\u001b[0m: 'No IBM Quantum Experience credentials found.'"
     ]
    }
   ],
   "source": [
    "from qiskit import IBMQ\n",
    "\n",
    "# Load the IBMQ account\n",
    "IBMQ.load_account()\n",
    "\n",
    "# Get the provider and backend\n",
    "provider = IBMQ.get_provider(hub='ibm-q', group='open')\n",
    "backend = provider.get_backend('ibmq_santiago')"
   ]
  },
  {
   "cell_type": "code",
   "execution_count": 2,
   "id": "45422f30",
   "metadata": {},
   "outputs": [
    {
     "ename": "NameError",
     "evalue": "name 'image' is not defined",
     "output_type": "error",
     "traceback": [
      "\u001b[1;31m---------------------------------------------------------------------------\u001b[0m",
      "\u001b[1;31mNameError\u001b[0m                                 Traceback (most recent call last)",
      "\u001b[1;32m~\\AppData\\Local\\Temp/ipykernel_2340/433337398.py\u001b[0m in \u001b[0;36m<module>\u001b[1;34m\u001b[0m\n\u001b[0;32m      2\u001b[0m \u001b[1;31m# The pixels in `image_small` correspond to the pixels at\u001b[0m\u001b[1;33m\u001b[0m\u001b[1;33m\u001b[0m\u001b[0m\n\u001b[0;32m      3\u001b[0m \u001b[1;31m# (6, 2), (6, 3), (7, 2), (7, 3) respectively\u001b[0m\u001b[1;33m\u001b[0m\u001b[1;33m\u001b[0m\u001b[0m\n\u001b[1;32m----> 4\u001b[1;33m \u001b[0mimage_small\u001b[0m \u001b[1;33m=\u001b[0m \u001b[0mimage\u001b[0m\u001b[1;33m[\u001b[0m\u001b[1;36m6\u001b[0m\u001b[1;33m:\u001b[0m\u001b[1;36m8\u001b[0m\u001b[1;33m,\u001b[0m \u001b[1;36m2\u001b[0m\u001b[1;33m:\u001b[0m\u001b[1;36m4\u001b[0m\u001b[1;33m]\u001b[0m\u001b[1;33m\u001b[0m\u001b[1;33m\u001b[0m\u001b[0m\n\u001b[0m\u001b[0;32m      5\u001b[0m \u001b[1;33m\u001b[0m\u001b[0m\n\u001b[0;32m      6\u001b[0m \u001b[1;31m# Plotting the image_small using matplotlib\u001b[0m\u001b[1;33m\u001b[0m\u001b[1;33m\u001b[0m\u001b[0m\n",
      "\u001b[1;31mNameError\u001b[0m: name 'image' is not defined"
     ]
    }
   ],
   "source": [
    "# Create a 2x2 image to be run on the hardware\n",
    "# The pixels in `image_small` correspond to the pixels at\n",
    "# (6, 2), (6, 3), (7, 2), (7, 3) respectively\n",
    "image_small = image[6:8, 2:4]\n",
    "\n",
    "# Plotting the image_small using matplotlib\n",
    "plot_image(image_small, 'Cropped image')"
   ]
  },
  {
   "cell_type": "code",
   "execution_count": 3,
   "id": "0956730b",
   "metadata": {},
   "outputs": [],
   "source": [
    "# Initialize the number of qubits\n",
    "data_qb = 2\n",
    "anc_qb = 1\n",
    "total_qb = data_qb + anc_qb"
   ]
  },
  {
   "cell_type": "code",
   "execution_count": 4,
   "id": "9ad1e640",
   "metadata": {},
   "outputs": [
    {
     "ename": "NameError",
     "evalue": "name 'QuantumCircuit' is not defined",
     "output_type": "error",
     "traceback": [
      "\u001b[1;31m---------------------------------------------------------------------------\u001b[0m",
      "\u001b[1;31mNameError\u001b[0m                                 Traceback (most recent call last)",
      "\u001b[1;32m~\\AppData\\Local\\Temp/ipykernel_2340/3841260130.py\u001b[0m in \u001b[0;36m<module>\u001b[1;34m\u001b[0m\n\u001b[0;32m      1\u001b[0m \u001b[1;31m# Create the circuit for horizontal scan\u001b[0m\u001b[1;33m\u001b[0m\u001b[1;33m\u001b[0m\u001b[0m\n\u001b[1;32m----> 2\u001b[1;33m \u001b[0mqc_small_h\u001b[0m \u001b[1;33m=\u001b[0m \u001b[0mQuantumCircuit\u001b[0m\u001b[1;33m(\u001b[0m\u001b[0mtotal_qb\u001b[0m\u001b[1;33m)\u001b[0m\u001b[1;33m\u001b[0m\u001b[1;33m\u001b[0m\u001b[0m\n\u001b[0m\u001b[0;32m      3\u001b[0m \u001b[0mqc_small_h\u001b[0m\u001b[1;33m.\u001b[0m\u001b[0mx\u001b[0m\u001b[1;33m(\u001b[0m\u001b[1;36m1\u001b[0m\u001b[1;33m)\u001b[0m\u001b[1;33m\u001b[0m\u001b[1;33m\u001b[0m\u001b[0m\n\u001b[0;32m      4\u001b[0m \u001b[0mqc_small_h\u001b[0m\u001b[1;33m.\u001b[0m\u001b[0mh\u001b[0m\u001b[1;33m(\u001b[0m\u001b[1;36m0\u001b[0m\u001b[1;33m)\u001b[0m\u001b[1;33m\u001b[0m\u001b[1;33m\u001b[0m\u001b[0m\n\u001b[0;32m      5\u001b[0m \u001b[1;33m\u001b[0m\u001b[0m\n",
      "\u001b[1;31mNameError\u001b[0m: name 'QuantumCircuit' is not defined"
     ]
    }
   ],
   "source": [
    "# Create the circuit for horizontal scan\n",
    "qc_small_h = QuantumCircuit(total_qb)\n",
    "qc_small_h.x(1)\n",
    "qc_small_h.h(0)\n",
    "\n",
    "# Decrement gate - START\n",
    "qc_small_h.x(0)\n",
    "qc_small_h.cx(0, 1)\n",
    "qc_small_h.ccx(0, 1, 2)\n",
    "# Decrement gate - END\n",
    "\n",
    "qc_small_h.h(0)\n",
    "qc_small_h.measure_all()\n",
    "display(qc_small_h.draw('mpl'))\n",
    "\n",
    "# Create the circuit for vertical scan\n",
    "qc_small_v = QuantumCircuit(total_qb)\n",
    "qc_small_v.x(2)\n",
    "qc_small_v.h(0)\n",
    "\n",
    "# Decrement gate - START\n",
    "qc_small_v.x(0)\n",
    "qc_small_v.cx(0, 1)\n",
    "qc_small_v.ccx(0, 1, 2)\n",
    "# Decrement gate - END\n",
    "\n",
    "qc_small_v.h(0)\n",
    "qc_small_v.measure_all()\n",
    "display(qc_small_v.draw('mpl'))\n",
    "\n",
    "# Combine both circuits into a single list\n",
    "circ_list = [qc_small_h, qc_small_v]"
   ]
  },
  {
   "cell_type": "code",
   "execution_count": 5,
   "id": "d61acbce",
   "metadata": {},
   "outputs": [
    {
     "ename": "NameError",
     "evalue": "name 'transpile' is not defined",
     "output_type": "error",
     "traceback": [
      "\u001b[1;31m---------------------------------------------------------------------------\u001b[0m",
      "\u001b[1;31mNameError\u001b[0m                                 Traceback (most recent call last)",
      "\u001b[1;32m~\\AppData\\Local\\Temp/ipykernel_2340/1308258823.py\u001b[0m in \u001b[0;36m<module>\u001b[1;34m\u001b[0m\n\u001b[0;32m      1\u001b[0m \u001b[1;31m# Transpile the circuits for optimized execution on the backend\u001b[0m\u001b[1;33m\u001b[0m\u001b[1;33m\u001b[0m\u001b[0m\n\u001b[1;32m----> 2\u001b[1;33m \u001b[0mqc_small_h_t\u001b[0m \u001b[1;33m=\u001b[0m \u001b[0mtranspile\u001b[0m\u001b[1;33m(\u001b[0m\u001b[0mqc_small_h\u001b[0m\u001b[1;33m,\u001b[0m \u001b[0mbackend\u001b[0m\u001b[1;33m=\u001b[0m\u001b[0mbackend\u001b[0m\u001b[1;33m,\u001b[0m \u001b[0moptimization_level\u001b[0m\u001b[1;33m=\u001b[0m\u001b[1;36m3\u001b[0m\u001b[1;33m)\u001b[0m\u001b[1;33m\u001b[0m\u001b[1;33m\u001b[0m\u001b[0m\n\u001b[0m\u001b[0;32m      3\u001b[0m \u001b[0mqc_small_v_t\u001b[0m \u001b[1;33m=\u001b[0m \u001b[0mtranspile\u001b[0m\u001b[1;33m(\u001b[0m\u001b[0mqc_small_v\u001b[0m\u001b[1;33m,\u001b[0m \u001b[0mbackend\u001b[0m\u001b[1;33m=\u001b[0m\u001b[0mbackend\u001b[0m\u001b[1;33m,\u001b[0m \u001b[0moptimization_level\u001b[0m\u001b[1;33m=\u001b[0m\u001b[1;36m3\u001b[0m\u001b[1;33m)\u001b[0m\u001b[1;33m\u001b[0m\u001b[1;33m\u001b[0m\u001b[0m\n",
      "\u001b[1;31mNameError\u001b[0m: name 'transpile' is not defined"
     ]
    }
   ],
   "source": [
    "# Transpile the circuits for optimized execution on the backend\n",
    "qc_small_h_t = transpile(qc_small_h, backend=backend, optimization_level=3)\n",
    "qc_small_v_t = transpile(qc_small_v, backend=backend, optimization_level=3)"
   ]
  },
  {
   "cell_type": "code",
   "execution_count": 6,
   "id": "86584599",
   "metadata": {},
   "outputs": [
    {
     "ename": "NameError",
     "evalue": "name 'qc_small_h_t' is not defined",
     "output_type": "error",
     "traceback": [
      "\u001b[1;31m---------------------------------------------------------------------------\u001b[0m",
      "\u001b[1;31mNameError\u001b[0m                                 Traceback (most recent call last)",
      "\u001b[1;32m~\\AppData\\Local\\Temp/ipykernel_2340/2236967581.py\u001b[0m in \u001b[0;36m<module>\u001b[1;34m\u001b[0m\n\u001b[0;32m      1\u001b[0m \u001b[1;31m# Combining both circuits into a list\u001b[0m\u001b[1;33m\u001b[0m\u001b[1;33m\u001b[0m\u001b[0m\n\u001b[1;32m----> 2\u001b[1;33m \u001b[0mcirc_list_t\u001b[0m \u001b[1;33m=\u001b[0m \u001b[1;33m[\u001b[0m\u001b[0mqc_small_h_t\u001b[0m\u001b[1;33m,\u001b[0m \u001b[0mqc_small_v_t\u001b[0m\u001b[1;33m]\u001b[0m\u001b[1;33m\u001b[0m\u001b[1;33m\u001b[0m\u001b[0m\n\u001b[0m\u001b[0;32m      3\u001b[0m \u001b[1;33m\u001b[0m\u001b[0m\n\u001b[0;32m      4\u001b[0m \u001b[1;31m# Drawing the transpiled circuit\u001b[0m\u001b[1;33m\u001b[0m\u001b[1;33m\u001b[0m\u001b[0m\n\u001b[0;32m      5\u001b[0m \u001b[0mdisplay\u001b[0m\u001b[1;33m(\u001b[0m\u001b[0mcirc_list_t\u001b[0m\u001b[1;33m[\u001b[0m\u001b[1;36m0\u001b[0m\u001b[1;33m]\u001b[0m\u001b[1;33m.\u001b[0m\u001b[0mdraw\u001b[0m\u001b[1;33m(\u001b[0m\u001b[1;34m'mpl'\u001b[0m\u001b[1;33m,\u001b[0m \u001b[0mfold\u001b[0m\u001b[1;33m=\u001b[0m\u001b[1;33m-\u001b[0m\u001b[1;36m1\u001b[0m\u001b[1;33m)\u001b[0m\u001b[1;33m)\u001b[0m\u001b[1;33m\u001b[0m\u001b[1;33m\u001b[0m\u001b[0m\n",
      "\u001b[1;31mNameError\u001b[0m: name 'qc_small_h_t' is not defined"
     ]
    }
   ],
   "source": [
    "# Combining both circuits into a list\n",
    "circ_list_t = [qc_small_h_t, qc_small_v_t]\n",
    "\n",
    "# Drawing the transpiled circuit\n",
    "display(circ_list_t[0].draw('mpl', fold=-1))\n",
    "display(circ_list_t[1].draw('mpl', fold=-1))"
   ]
  },
  {
   "cell_type": "code",
   "execution_count": 7,
   "id": "6dd95f3f",
   "metadata": {},
   "outputs": [
    {
     "ename": "NameError",
     "evalue": "name 'execute' is not defined",
     "output_type": "error",
     "traceback": [
      "\u001b[1;31m---------------------------------------------------------------------------\u001b[0m",
      "\u001b[1;31mNameError\u001b[0m                                 Traceback (most recent call last)",
      "\u001b[1;32m~\\AppData\\Local\\Temp/ipykernel_2340/3945211282.py\u001b[0m in \u001b[0;36m<module>\u001b[1;34m\u001b[0m\n\u001b[0;32m      2\u001b[0m \u001b[1;33m\u001b[0m\u001b[0m\n\u001b[0;32m      3\u001b[0m \u001b[1;31m# Executing the circuits on the backend\u001b[0m\u001b[1;33m\u001b[0m\u001b[1;33m\u001b[0m\u001b[0m\n\u001b[1;32m----> 4\u001b[1;33m \u001b[0mjob\u001b[0m \u001b[1;33m=\u001b[0m \u001b[0mexecute\u001b[0m\u001b[1;33m(\u001b[0m\u001b[0mcirc_list_t\u001b[0m\u001b[1;33m,\u001b[0m \u001b[0mbackend\u001b[0m\u001b[1;33m=\u001b[0m\u001b[0mbackend\u001b[0m\u001b[1;33m,\u001b[0m \u001b[0mshots\u001b[0m\u001b[1;33m=\u001b[0m\u001b[1;36m8192\u001b[0m\u001b[1;33m)\u001b[0m\u001b[1;33m\u001b[0m\u001b[1;33m\u001b[0m\u001b[0m\n\u001b[0m\u001b[0;32m      5\u001b[0m \u001b[0mjob_monitor\u001b[0m\u001b[1;33m(\u001b[0m\u001b[0mjob\u001b[0m\u001b[1;33m)\u001b[0m\u001b[1;33m\u001b[0m\u001b[1;33m\u001b[0m\u001b[0m\n",
      "\u001b[1;31mNameError\u001b[0m: name 'execute' is not defined"
     ]
    }
   ],
   "source": [
    "from qiskit.tools.monitor import job_monitor\n",
    "\n",
    "# Executing the circuits on the backend\n",
    "job = execute(circ_list_t, backend=backend, shots=8192)\n",
    "job_monitor(job)"
   ]
  },
  {
   "cell_type": "code",
   "execution_count": null,
   "id": "f3561a7a",
   "metadata": {},
   "outputs": [],
   "source": [
    "from qiskit.visualization import plot_histogram\n",
    "\n",
    "# Getting the resultant probability distribution after measurement\n",
    "result = job.result()\n",
    "counts_h = result.get_counts(qc_small_h)\n",
    "counts_v = result.get_counts(qc_small_v)\n",
    "\n",
    "print('Counts for Horizontal scan:')\n",
    "display(plot_histogram(counts_h))\n",
    "\n",
    "print('\\n\\nCounts for Vertical scan:')\n",
    "display(plot_histogram(counts_v))"
   ]
  },
  {
   "cell_type": "code",
   "execution_count": 8,
   "id": "02d7e873",
   "metadata": {},
   "outputs": [
    {
     "ename": "NameError",
     "evalue": "name 'np' is not defined",
     "output_type": "error",
     "traceback": [
      "\u001b[1;31m---------------------------------------------------------------------------\u001b[0m",
      "\u001b[1;31mNameError\u001b[0m                                 Traceback (most recent call last)",
      "\u001b[1;32m~\\AppData\\Local\\Temp/ipykernel_2340/2180255914.py\u001b[0m in \u001b[0;36m<module>\u001b[1;34m\u001b[0m\n\u001b[0;32m      1\u001b[0m \u001b[1;31m# Extracting counts for odd-numbered states\u001b[0m\u001b[1;33m\u001b[0m\u001b[1;33m\u001b[0m\u001b[0m\n\u001b[1;32m----> 2\u001b[1;33m \u001b[0medge_scan_small_h\u001b[0m \u001b[1;33m=\u001b[0m \u001b[0mnp\u001b[0m\u001b[1;33m.\u001b[0m\u001b[0marray\u001b[0m\u001b[1;33m(\u001b[0m\u001b[1;33m[\u001b[0m\u001b[0mcounts_h\u001b[0m\u001b[1;33m[\u001b[0m\u001b[1;34mf'{2*i+1:03b}'\u001b[0m\u001b[1;33m]\u001b[0m \u001b[1;32mfor\u001b[0m \u001b[0mi\u001b[0m \u001b[1;32min\u001b[0m \u001b[0mrange\u001b[0m\u001b[1;33m(\u001b[0m\u001b[1;36m2\u001b[0m\u001b[1;33m**\u001b[0m\u001b[0mdata_qb\u001b[0m\u001b[1;33m)\u001b[0m\u001b[1;33m]\u001b[0m\u001b[1;33m)\u001b[0m\u001b[1;33m.\u001b[0m\u001b[0mreshape\u001b[0m\u001b[1;33m(\u001b[0m\u001b[1;36m2\u001b[0m\u001b[1;33m,\u001b[0m \u001b[1;36m2\u001b[0m\u001b[1;33m)\u001b[0m\u001b[1;33m\u001b[0m\u001b[1;33m\u001b[0m\u001b[0m\n\u001b[0m\u001b[0;32m      3\u001b[0m \u001b[0medge_scan_small_v\u001b[0m \u001b[1;33m=\u001b[0m \u001b[0mnp\u001b[0m\u001b[1;33m.\u001b[0m\u001b[0marray\u001b[0m\u001b[1;33m(\u001b[0m\u001b[1;33m[\u001b[0m\u001b[0mcounts_v\u001b[0m\u001b[1;33m[\u001b[0m\u001b[1;34mf'{2*i+1:03b}'\u001b[0m\u001b[1;33m]\u001b[0m \u001b[1;32mfor\u001b[0m \u001b[0mi\u001b[0m \u001b[1;32min\u001b[0m \u001b[0mrange\u001b[0m\u001b[1;33m(\u001b[0m\u001b[1;36m2\u001b[0m\u001b[1;33m**\u001b[0m\u001b[0mdata_qb\u001b[0m\u001b[1;33m)\u001b[0m\u001b[1;33m]\u001b[0m\u001b[1;33m)\u001b[0m\u001b[1;33m.\u001b[0m\u001b[0mreshape\u001b[0m\u001b[1;33m(\u001b[0m\u001b[1;36m2\u001b[0m\u001b[1;33m,\u001b[0m \u001b[1;36m2\u001b[0m\u001b[1;33m)\u001b[0m\u001b[1;33m.\u001b[0m\u001b[0mT\u001b[0m\u001b[1;33m\u001b[0m\u001b[1;33m\u001b[0m\u001b[0m\n\u001b[0;32m      4\u001b[0m \u001b[1;33m\u001b[0m\u001b[0m\n\u001b[0;32m      5\u001b[0m \u001b[0mplot_image\u001b[0m\u001b[1;33m(\u001b[0m\u001b[0medge_scan_small_h\u001b[0m\u001b[1;33m,\u001b[0m \u001b[1;34m'Horizontal scan output'\u001b[0m\u001b[1;33m)\u001b[0m\u001b[1;33m\u001b[0m\u001b[1;33m\u001b[0m\u001b[0m\n",
      "\u001b[1;31mNameError\u001b[0m: name 'np' is not defined"
     ]
    }
   ],
   "source": [
    "# Extracting counts for odd-numbered states\n",
    "edge_scan_small_h = np.array([counts_h[f'{2*i+1:03b}'] for i in range(2**data_qb)]).reshape(2, 2)\n",
    "edge_scan_small_v = np.array([counts_v[f'{2*i+1:03b}'] for i in range(2**data_qb)]).reshape(2, 2).T\n",
    "\n",
    "plot_image(edge_scan_small_h, 'Horizontal scan output')\n",
    "plot_image(edge_scan_small_v, 'Vertical scan output')"
   ]
  },
  {
   "cell_type": "code",
   "execution_count": 9,
   "id": "6b5b58a0",
   "metadata": {},
   "outputs": [
    {
     "ename": "NameError",
     "evalue": "name 'edge_scan_small_h' is not defined",
     "output_type": "error",
     "traceback": [
      "\u001b[1;31m---------------------------------------------------------------------------\u001b[0m",
      "\u001b[1;31mNameError\u001b[0m                                 Traceback (most recent call last)",
      "\u001b[1;32m~\\AppData\\Local\\Temp/ipykernel_2340/2207792624.py\u001b[0m in \u001b[0;36m<module>\u001b[1;34m\u001b[0m\n\u001b[1;32m----> 1\u001b[1;33m \u001b[0medge_detected_image_small\u001b[0m \u001b[1;33m=\u001b[0m \u001b[0medge_scan_small_h\u001b[0m \u001b[1;33m+\u001b[0m \u001b[0medge_scan_small_v\u001b[0m\u001b[1;33m\u001b[0m\u001b[1;33m\u001b[0m\u001b[0m\n\u001b[0m\u001b[0;32m      2\u001b[0m \u001b[1;33m\u001b[0m\u001b[0m\n\u001b[0;32m      3\u001b[0m \u001b[1;31m# Plotting the original and edge-detected images\u001b[0m\u001b[1;33m\u001b[0m\u001b[1;33m\u001b[0m\u001b[0m\n\u001b[0;32m      4\u001b[0m \u001b[0mplot_image\u001b[0m\u001b[1;33m(\u001b[0m\u001b[0medge_detected_image_small\u001b[0m\u001b[1;33m,\u001b[0m \u001b[1;34m'Full Edge Detected Image'\u001b[0m\u001b[1;33m)\u001b[0m\u001b[1;33m\u001b[0m\u001b[1;33m\u001b[0m\u001b[0m\n",
      "\u001b[1;31mNameError\u001b[0m: name 'edge_scan_small_h' is not defined"
     ]
    }
   ],
   "source": [
    "edge_detected_image_small = edge_scan_small_h + edge_scan_small_v\n",
    "\n",
    "# Plotting the original and edge-detected images\n",
    "plot_image(edge_detected_image_small, 'Full Edge Detected Image')"
   ]
  },
  {
   "cell_type": "code",
   "execution_count": 10,
   "id": "73888f0e",
   "metadata": {},
   "outputs": [
    {
     "ename": "NameError",
     "evalue": "name 'Aer' is not defined",
     "output_type": "error",
     "traceback": [
      "\u001b[1;31m---------------------------------------------------------------------------\u001b[0m",
      "\u001b[1;31mNameError\u001b[0m                                 Traceback (most recent call last)",
      "\u001b[1;32m~\\AppData\\Local\\Temp/ipykernel_2340/4230622260.py\u001b[0m in \u001b[0;36m<module>\u001b[1;34m\u001b[0m\n\u001b[0;32m      1\u001b[0m \u001b[1;31m# Initialise the qasm_simulator from the Aer package\u001b[0m\u001b[1;33m\u001b[0m\u001b[1;33m\u001b[0m\u001b[0m\n\u001b[1;32m----> 2\u001b[1;33m \u001b[0msim\u001b[0m \u001b[1;33m=\u001b[0m \u001b[0mAer\u001b[0m\u001b[1;33m.\u001b[0m\u001b[0mget_backend\u001b[0m\u001b[1;33m(\u001b[0m\u001b[1;34m'qasm_simulator'\u001b[0m\u001b[1;33m)\u001b[0m\u001b[1;33m\u001b[0m\u001b[1;33m\u001b[0m\u001b[0m\n\u001b[0m\u001b[0;32m      3\u001b[0m \u001b[0mres\u001b[0m \u001b[1;33m=\u001b[0m \u001b[0msim\u001b[0m\u001b[1;33m.\u001b[0m\u001b[0mrun\u001b[0m\u001b[1;33m(\u001b[0m\u001b[0mcirc_list_t\u001b[0m\u001b[1;33m,\u001b[0m \u001b[0mshots\u001b[0m\u001b[1;33m=\u001b[0m\u001b[1;36m8192\u001b[0m\u001b[1;33m)\u001b[0m\u001b[1;33m.\u001b[0m\u001b[0mresult\u001b[0m\u001b[1;33m(\u001b[0m\u001b[1;33m)\u001b[0m\u001b[1;33m\u001b[0m\u001b[1;33m\u001b[0m\u001b[0m\n\u001b[0;32m      4\u001b[0m \u001b[0msim_counts_h\u001b[0m \u001b[1;33m=\u001b[0m \u001b[0mres\u001b[0m\u001b[1;33m.\u001b[0m\u001b[0mget_counts\u001b[0m\u001b[1;33m(\u001b[0m\u001b[0mqc_small_h\u001b[0m\u001b[1;33m)\u001b[0m\u001b[1;33m\u001b[0m\u001b[1;33m\u001b[0m\u001b[0m\n\u001b[0;32m      5\u001b[0m \u001b[0msim_counts_v\u001b[0m \u001b[1;33m=\u001b[0m \u001b[0mres\u001b[0m\u001b[1;33m.\u001b[0m\u001b[0mget_counts\u001b[0m\u001b[1;33m(\u001b[0m\u001b[0mqc_small_v\u001b[0m\u001b[1;33m)\u001b[0m\u001b[1;33m\u001b[0m\u001b[1;33m\u001b[0m\u001b[0m\n",
      "\u001b[1;31mNameError\u001b[0m: name 'Aer' is not defined"
     ]
    }
   ],
   "source": [
    "# Initialise the qasm_simulator from the Aer package\n",
    "sim = Aer.get_backend('qasm_simulator')\n",
    "res = sim.run(circ_list_t, shots=8192).result()\n",
    "sim_counts_h = res.get_counts(qc_small_h)\n",
    "sim_counts_v = res.get_counts(qc_small_v)\n",
    "\n",
    "# Get the measurement counts from the result\n",
    "sim_keys_h = sim_counts_h.keys()\n",
    "sim_keys_v = sim_counts_v.keys()\n",
    "\n",
    "# Filter and extract the counts for odd-numbered states\n",
    "# and make the full edge-detected image by adding horizontal and vertical scans\n",
    "edge_scan_sim_h = np.array([sim_counts_h[f'{2*i+1:03b}'] if f'{2*i+1:03b}' in sim_keys_h else 0 for i in range(2**data_qb)]).reshape(2, 2)\n",
    "edge_scan_sim_v = np.array([sim_counts_v[f'{2*i+1:03b}'] if f'{2*i+1:03b}' in sim_keys_v else 0 for i in range(2**data_qb)]).reshape(2, 2).T\n",
    "edge_detected_sim_small = edge_scan_sim_h + edge_scan_sim_v\n",
    "\n",
    "# Plot all the simulator-run, hardware-run, and original images\n",
    "plot_image(edge_detected_sim_small, 'Edge Detected Image (QASM sim)')\n",
    "plot_image(edge_detected_image_small, 'Edge Detected Image (Hardware)')\n",
    "plot_image(image_small, 'Original image')"
   ]
  },
  {
   "cell_type": "code",
   "execution_count": null,
   "id": "739dc5dc",
   "metadata": {},
   "outputs": [],
   "source": []
  }
 ],
 "metadata": {
  "kernelspec": {
   "display_name": "Python 3 (ipykernel)",
   "language": "python",
   "name": "python3"
  },
  "language_info": {
   "codemirror_mode": {
    "name": "ipython",
    "version": 3
   },
   "file_extension": ".py",
   "mimetype": "text/x-python",
   "name": "python",
   "nbconvert_exporter": "python",
   "pygments_lexer": "ipython3",
   "version": "3.9.7"
  }
 },
 "nbformat": 4,
 "nbformat_minor": 5
}
